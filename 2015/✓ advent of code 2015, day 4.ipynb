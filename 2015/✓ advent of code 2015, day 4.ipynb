{
 "cells": [
  {
   "cell_type": "code",
   "execution_count": 1,
   "id": "ea21bfb0-8011-459d-bbb9-92115616b4bc",
   "metadata": {},
   "outputs": [],
   "source": [
    "data = \"\"\"bgvyzdsv\"\"\""
   ]
  },
  {
   "cell_type": "code",
   "execution_count": 2,
   "id": "32a0d966-98a0-4f66-b9aa-11ad15829583",
   "metadata": {},
   "outputs": [
    {
     "name": "stdout",
     "output_type": "stream",
     "text": [
      "advent of code 2015, day 2, part 1, answer: 254575\n",
      "advent of code 2015, day 2, part 2, answer: 1038736\n"
     ]
    }
   ],
   "source": [
    "# advent of code 2015, day 4\n",
    "from hashlib import md5\n",
    "\n",
    "def helper(key, test):\n",
    "    i, result = 0, '1' + test\n",
    "    while not result.startswith(test):\n",
    "        i += 1\n",
    "        result = md5((key + str(i)).encode('utf-8')).hexdigest()\n",
    "    return i\n",
    "\n",
    "for part in (1, 2):\n",
    "    answer = helper(data, '0000' + '0' * part)\n",
    "    print(f'advent of code 2015, day 4, part {part}, answer: {answer}')"
   ]
  }
 ],
 "metadata": {
  "kernelspec": {
   "display_name": "Python 3 (ipykernel)",
   "language": "python",
   "name": "python3"
  },
  "language_info": {
   "codemirror_mode": {
    "name": "ipython",
    "version": 3
   },
   "file_extension": ".py",
   "mimetype": "text/x-python",
   "name": "python",
   "nbconvert_exporter": "python",
   "pygments_lexer": "ipython3",
   "version": "3.12.0"
  }
 },
 "nbformat": 4,
 "nbformat_minor": 5
}
